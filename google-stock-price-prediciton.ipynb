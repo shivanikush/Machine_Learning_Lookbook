{
 "cells": [
  {
   "cell_type": "code",
   "execution_count": 1,
   "id": "bc37b21d",
   "metadata": {
    "_cell_guid": "b1076dfc-b9ad-4769-8c92-a6c4dae69d19",
    "_uuid": "8f2839f25d086af736a60e9eeb907d3b93b6e0e5",
    "execution": {
     "iopub.execute_input": "2023-03-21T19:23:25.905161Z",
     "iopub.status.busy": "2023-03-21T19:23:25.904514Z",
     "iopub.status.idle": "2023-03-21T19:23:27.067721Z",
     "shell.execute_reply": "2023-03-21T19:23:27.066550Z"
    },
    "papermill": {
     "duration": 1.173139,
     "end_time": "2023-03-21T19:23:27.070243",
     "exception": false,
     "start_time": "2023-03-21T19:23:25.897104",
     "status": "completed"
    },
    "tags": []
   },
   "outputs": [
    {
     "name": "stdout",
     "output_type": "stream",
     "text": [
      "/kaggle/input/california-housing-prices/housing.csv\n",
      "/kaggle/input/google-stock-prediction/GOOG.csv\n"
     ]
    }
   ],
   "source": [
    "# This Python 3 environment comes with many helpful analytics libraries installed\n",
    "# It is defined by the kaggle/python Docker image: https://github.com/kaggle/docker-python\n",
    "# For example, here's several helpful packages to load\n",
    "\n",
    "import numpy as np # linear algebra\n",
    "import pandas as pd # data processing, CSV file I/O (e.g. pd.read_csv)\n",
    "import math\n",
    "from sklearn.model_selection import train_test_split\n",
    "from sklearn import preprocessing, svm\n",
    "from sklearn.linear_model import LinearRegression\n",
    "import sklearn\n",
    "import datetime\n",
    "import matplotlib.pyplot as plt\n",
    "from matplotlib import style\n",
    "style.use('ggplot')\n",
    "# Input data files are available in the read-only \"../input/\" directory\n",
    "# For example, running this (by clicking run or pressing Shift+Enter) will list all files under the input directory\n",
    "\n",
    "import os\n",
    "for dirname, _, filenames in os.walk('/kaggle/input'):\n",
    "    for filename in filenames:\n",
    "        print(os.path.join(dirname, filename))\n",
    "\n",
    "# You can write up to 20GB to the current directory (/kaggle/working/) that gets preserved as output when you create a version using \"Save & Run All\" \n",
    "# You can also write temporary files to /kaggle/temp/, but they won't be saved outside of the current session"
   ]
  },
  {
   "cell_type": "code",
   "execution_count": 2,
   "id": "b38346aa",
   "metadata": {
    "execution": {
     "iopub.execute_input": "2023-03-21T19:23:27.083330Z",
     "iopub.status.busy": "2023-03-21T19:23:27.082669Z",
     "iopub.status.idle": "2023-03-21T19:23:27.107252Z",
     "shell.execute_reply": "2023-03-21T19:23:27.106074Z"
    },
    "papermill": {
     "duration": 0.033636,
     "end_time": "2023-03-21T19:23:27.109732",
     "exception": false,
     "start_time": "2023-03-21T19:23:27.076096",
     "status": "completed"
    },
    "tags": []
   },
   "outputs": [],
   "source": [
    "df = pd.read_csv('/kaggle/input/google-stock-prediction/GOOG.csv')"
   ]
  },
  {
   "cell_type": "code",
   "execution_count": 3,
   "id": "f4fc71ad",
   "metadata": {
    "execution": {
     "iopub.execute_input": "2023-03-21T19:23:27.120972Z",
     "iopub.status.busy": "2023-03-21T19:23:27.120608Z",
     "iopub.status.idle": "2023-03-21T19:23:27.154402Z",
     "shell.execute_reply": "2023-03-21T19:23:27.153373Z"
    },
    "papermill": {
     "duration": 0.041779,
     "end_time": "2023-03-21T19:23:27.156460",
     "exception": false,
     "start_time": "2023-03-21T19:23:27.114681",
     "status": "completed"
    },
    "tags": []
   },
   "outputs": [
    {
     "data": {
      "text/html": [
       "<div>\n",
       "<style scoped>\n",
       "    .dataframe tbody tr th:only-of-type {\n",
       "        vertical-align: middle;\n",
       "    }\n",
       "\n",
       "    .dataframe tbody tr th {\n",
       "        vertical-align: top;\n",
       "    }\n",
       "\n",
       "    .dataframe thead th {\n",
       "        text-align: right;\n",
       "    }\n",
       "</style>\n",
       "<table border=\"1\" class=\"dataframe\">\n",
       "  <thead>\n",
       "    <tr style=\"text-align: right;\">\n",
       "      <th></th>\n",
       "      <th>symbol</th>\n",
       "      <th>date</th>\n",
       "      <th>close</th>\n",
       "      <th>high</th>\n",
       "      <th>low</th>\n",
       "      <th>open</th>\n",
       "      <th>volume</th>\n",
       "      <th>adjClose</th>\n",
       "      <th>adjHigh</th>\n",
       "      <th>adjLow</th>\n",
       "      <th>adjOpen</th>\n",
       "      <th>adjVolume</th>\n",
       "      <th>divCash</th>\n",
       "      <th>splitFactor</th>\n",
       "    </tr>\n",
       "  </thead>\n",
       "  <tbody>\n",
       "    <tr>\n",
       "      <th>0</th>\n",
       "      <td>GOOG</td>\n",
       "      <td>2016-06-14 00:00:00+00:00</td>\n",
       "      <td>718.27</td>\n",
       "      <td>722.47</td>\n",
       "      <td>713.1200</td>\n",
       "      <td>716.48</td>\n",
       "      <td>1306065</td>\n",
       "      <td>718.27</td>\n",
       "      <td>722.47</td>\n",
       "      <td>713.1200</td>\n",
       "      <td>716.48</td>\n",
       "      <td>1306065</td>\n",
       "      <td>0.0</td>\n",
       "      <td>1.0</td>\n",
       "    </tr>\n",
       "    <tr>\n",
       "      <th>1</th>\n",
       "      <td>GOOG</td>\n",
       "      <td>2016-06-15 00:00:00+00:00</td>\n",
       "      <td>718.92</td>\n",
       "      <td>722.98</td>\n",
       "      <td>717.3100</td>\n",
       "      <td>719.00</td>\n",
       "      <td>1214517</td>\n",
       "      <td>718.92</td>\n",
       "      <td>722.98</td>\n",
       "      <td>717.3100</td>\n",
       "      <td>719.00</td>\n",
       "      <td>1214517</td>\n",
       "      <td>0.0</td>\n",
       "      <td>1.0</td>\n",
       "    </tr>\n",
       "    <tr>\n",
       "      <th>2</th>\n",
       "      <td>GOOG</td>\n",
       "      <td>2016-06-16 00:00:00+00:00</td>\n",
       "      <td>710.36</td>\n",
       "      <td>716.65</td>\n",
       "      <td>703.2600</td>\n",
       "      <td>714.91</td>\n",
       "      <td>1982471</td>\n",
       "      <td>710.36</td>\n",
       "      <td>716.65</td>\n",
       "      <td>703.2600</td>\n",
       "      <td>714.91</td>\n",
       "      <td>1982471</td>\n",
       "      <td>0.0</td>\n",
       "      <td>1.0</td>\n",
       "    </tr>\n",
       "    <tr>\n",
       "      <th>3</th>\n",
       "      <td>GOOG</td>\n",
       "      <td>2016-06-17 00:00:00+00:00</td>\n",
       "      <td>691.72</td>\n",
       "      <td>708.82</td>\n",
       "      <td>688.4515</td>\n",
       "      <td>708.65</td>\n",
       "      <td>3402357</td>\n",
       "      <td>691.72</td>\n",
       "      <td>708.82</td>\n",
       "      <td>688.4515</td>\n",
       "      <td>708.65</td>\n",
       "      <td>3402357</td>\n",
       "      <td>0.0</td>\n",
       "      <td>1.0</td>\n",
       "    </tr>\n",
       "    <tr>\n",
       "      <th>4</th>\n",
       "      <td>GOOG</td>\n",
       "      <td>2016-06-20 00:00:00+00:00</td>\n",
       "      <td>693.71</td>\n",
       "      <td>702.48</td>\n",
       "      <td>693.4100</td>\n",
       "      <td>698.77</td>\n",
       "      <td>2082538</td>\n",
       "      <td>693.71</td>\n",
       "      <td>702.48</td>\n",
       "      <td>693.4100</td>\n",
       "      <td>698.77</td>\n",
       "      <td>2082538</td>\n",
       "      <td>0.0</td>\n",
       "      <td>1.0</td>\n",
       "    </tr>\n",
       "  </tbody>\n",
       "</table>\n",
       "</div>"
      ],
      "text/plain": [
       "  symbol                       date   close    high       low    open  \\\n",
       "0   GOOG  2016-06-14 00:00:00+00:00  718.27  722.47  713.1200  716.48   \n",
       "1   GOOG  2016-06-15 00:00:00+00:00  718.92  722.98  717.3100  719.00   \n",
       "2   GOOG  2016-06-16 00:00:00+00:00  710.36  716.65  703.2600  714.91   \n",
       "3   GOOG  2016-06-17 00:00:00+00:00  691.72  708.82  688.4515  708.65   \n",
       "4   GOOG  2016-06-20 00:00:00+00:00  693.71  702.48  693.4100  698.77   \n",
       "\n",
       "    volume  adjClose  adjHigh    adjLow  adjOpen  adjVolume  divCash  \\\n",
       "0  1306065    718.27   722.47  713.1200   716.48    1306065      0.0   \n",
       "1  1214517    718.92   722.98  717.3100   719.00    1214517      0.0   \n",
       "2  1982471    710.36   716.65  703.2600   714.91    1982471      0.0   \n",
       "3  3402357    691.72   708.82  688.4515   708.65    3402357      0.0   \n",
       "4  2082538    693.71   702.48  693.4100   698.77    2082538      0.0   \n",
       "\n",
       "   splitFactor  \n",
       "0          1.0  \n",
       "1          1.0  \n",
       "2          1.0  \n",
       "3          1.0  \n",
       "4          1.0  "
      ]
     },
     "execution_count": 3,
     "metadata": {},
     "output_type": "execute_result"
    }
   ],
   "source": [
    "df.head()"
   ]
  },
  {
   "cell_type": "code",
   "execution_count": 4,
   "id": "5900b059",
   "metadata": {
    "execution": {
     "iopub.execute_input": "2023-03-21T19:23:27.168102Z",
     "iopub.status.busy": "2023-03-21T19:23:27.167711Z",
     "iopub.status.idle": "2023-03-21T19:23:27.185308Z",
     "shell.execute_reply": "2023-03-21T19:23:27.183910Z"
    },
    "papermill": {
     "duration": 0.026457,
     "end_time": "2023-03-21T19:23:27.187964",
     "exception": false,
     "start_time": "2023-03-21T19:23:27.161507",
     "status": "completed"
    },
    "tags": []
   },
   "outputs": [
    {
     "name": "stdout",
     "output_type": "stream",
     "text": [
      "     symbol                       date    close      high        low     open  \\\n",
      "0      GOOG  2016-06-14 00:00:00+00:00   718.27   722.470   713.1200   716.48   \n",
      "1      GOOG  2016-06-15 00:00:00+00:00   718.92   722.980   717.3100   719.00   \n",
      "2      GOOG  2016-06-16 00:00:00+00:00   710.36   716.650   703.2600   714.91   \n",
      "3      GOOG  2016-06-17 00:00:00+00:00   691.72   708.820   688.4515   708.65   \n",
      "4      GOOG  2016-06-20 00:00:00+00:00   693.71   702.480   693.4100   698.77   \n",
      "...     ...                        ...      ...       ...        ...      ...   \n",
      "1253   GOOG  2021-06-07 00:00:00+00:00  2466.09  2468.000  2441.0725  2451.32   \n",
      "1254   GOOG  2021-06-08 00:00:00+00:00  2482.85  2494.495  2468.2400  2479.90   \n",
      "1255   GOOG  2021-06-09 00:00:00+00:00  2491.40  2505.000  2487.3300  2499.50   \n",
      "1256   GOOG  2021-06-10 00:00:00+00:00  2521.60  2523.260  2494.0000  2494.01   \n",
      "1257   GOOG  2021-06-11 00:00:00+00:00  2513.93  2526.990  2498.2900  2524.92   \n",
      "\n",
      "       volume  adjClose   adjHigh     adjLow  adjOpen  adjVolume  divCash  \\\n",
      "0     1306065    718.27   722.470   713.1200   716.48    1306065      0.0   \n",
      "1     1214517    718.92   722.980   717.3100   719.00    1214517      0.0   \n",
      "2     1982471    710.36   716.650   703.2600   714.91    1982471      0.0   \n",
      "3     3402357    691.72   708.820   688.4515   708.65    3402357      0.0   \n",
      "4     2082538    693.71   702.480   693.4100   698.77    2082538      0.0   \n",
      "...       ...       ...       ...        ...      ...        ...      ...   \n",
      "1253  1192453   2466.09  2468.000  2441.0725  2451.32    1192453      0.0   \n",
      "1254  1253253   2482.85  2494.495  2468.2400  2479.90    1253253      0.0   \n",
      "1255  1006337   2491.40  2505.000  2487.3300  2499.50    1006337      0.0   \n",
      "1256  1561733   2521.60  2523.260  2494.0000  2494.01    1561733      0.0   \n",
      "1257  1262309   2513.93  2526.990  2498.2900  2524.92    1262309      0.0   \n",
      "\n",
      "      splitFactor  \n",
      "0             1.0  \n",
      "1             1.0  \n",
      "2             1.0  \n",
      "3             1.0  \n",
      "4             1.0  \n",
      "...           ...  \n",
      "1253          1.0  \n",
      "1254          1.0  \n",
      "1255          1.0  \n",
      "1256          1.0  \n",
      "1257          1.0  \n",
      "\n",
      "[1258 rows x 14 columns]\n"
     ]
    }
   ],
   "source": [
    "df.tail()\n",
    "print(df)"
   ]
  },
  {
   "cell_type": "code",
   "execution_count": 5,
   "id": "c4ce0c5e",
   "metadata": {
    "execution": {
     "iopub.execute_input": "2023-03-21T19:23:27.200145Z",
     "iopub.status.busy": "2023-03-21T19:23:27.199581Z",
     "iopub.status.idle": "2023-03-21T19:23:27.210059Z",
     "shell.execute_reply": "2023-03-21T19:23:27.208756Z"
    },
    "papermill": {
     "duration": 0.019878,
     "end_time": "2023-03-21T19:23:27.212999",
     "exception": false,
     "start_time": "2023-03-21T19:23:27.193121",
     "status": "completed"
    },
    "tags": []
   },
   "outputs": [
    {
     "name": "stdout",
     "output_type": "stream",
     "text": [
      "0        713.1200\n",
      "1        717.3100\n",
      "2        703.2600\n",
      "3        688.4515\n",
      "4        693.4100\n",
      "          ...    \n",
      "1253    2441.0725\n",
      "1254    2468.2400\n",
      "1255    2487.3300\n",
      "1256    2494.0000\n",
      "1257    2498.2900\n",
      "Name: low, Length: 1258, dtype: float64\n"
     ]
    }
   ],
   "source": [
    "df.dtypes\n",
    "print(df[\"low\"])"
   ]
  },
  {
   "cell_type": "code",
   "execution_count": 6,
   "id": "069877d9",
   "metadata": {
    "execution": {
     "iopub.execute_input": "2023-03-21T19:23:27.226257Z",
     "iopub.status.busy": "2023-03-21T19:23:27.225029Z",
     "iopub.status.idle": "2023-03-21T19:23:27.235764Z",
     "shell.execute_reply": "2023-03-21T19:23:27.234664Z"
    },
    "papermill": {
     "duration": 0.019889,
     "end_time": "2023-03-21T19:23:27.238403",
     "exception": false,
     "start_time": "2023-03-21T19:23:27.218514",
     "status": "completed"
    },
    "tags": []
   },
   "outputs": [],
   "source": [
    "df = df[[\"adjLow\", \"adjOpen\",\"adjHigh\",\"adjClose\",\"adjVolume\"]]\n",
    "df[\"hl_percent\"] = (df[\"adjHigh\"] - df[\"adjClose\"])/df[\"adjClose\"]*100\n",
    "df[\"percent_change\"] = (df[\"adjClose\"] - df[\"adjOpen\"])/df[\"adjOpen\"]*100"
   ]
  },
  {
   "cell_type": "code",
   "execution_count": 7,
   "id": "f9c74098",
   "metadata": {
    "execution": {
     "iopub.execute_input": "2023-03-21T19:23:27.250661Z",
     "iopub.status.busy": "2023-03-21T19:23:27.250250Z",
     "iopub.status.idle": "2023-03-21T19:23:27.262817Z",
     "shell.execute_reply": "2023-03-21T19:23:27.261240Z"
    },
    "papermill": {
     "duration": 0.021337,
     "end_time": "2023-03-21T19:23:27.264955",
     "exception": false,
     "start_time": "2023-03-21T19:23:27.243618",
     "status": "completed"
    },
    "tags": []
   },
   "outputs": [
    {
     "data": {
      "text/html": [
       "<div>\n",
       "<style scoped>\n",
       "    .dataframe tbody tr th:only-of-type {\n",
       "        vertical-align: middle;\n",
       "    }\n",
       "\n",
       "    .dataframe tbody tr th {\n",
       "        vertical-align: top;\n",
       "    }\n",
       "\n",
       "    .dataframe thead th {\n",
       "        text-align: right;\n",
       "    }\n",
       "</style>\n",
       "<table border=\"1\" class=\"dataframe\">\n",
       "  <thead>\n",
       "    <tr style=\"text-align: right;\">\n",
       "      <th></th>\n",
       "      <th>adjClose</th>\n",
       "      <th>hl_percent</th>\n",
       "      <th>percent_change</th>\n",
       "      <th>adjVolume</th>\n",
       "    </tr>\n",
       "  </thead>\n",
       "  <tbody>\n",
       "    <tr>\n",
       "      <th>0</th>\n",
       "      <td>718.27</td>\n",
       "      <td>0.584738</td>\n",
       "      <td>0.249833</td>\n",
       "      <td>1306065</td>\n",
       "    </tr>\n",
       "    <tr>\n",
       "      <th>1</th>\n",
       "      <td>718.92</td>\n",
       "      <td>0.564736</td>\n",
       "      <td>-0.011127</td>\n",
       "      <td>1214517</td>\n",
       "    </tr>\n",
       "    <tr>\n",
       "      <th>2</th>\n",
       "      <td>710.36</td>\n",
       "      <td>0.885467</td>\n",
       "      <td>-0.636444</td>\n",
       "      <td>1982471</td>\n",
       "    </tr>\n",
       "    <tr>\n",
       "      <th>3</th>\n",
       "      <td>691.72</td>\n",
       "      <td>2.472099</td>\n",
       "      <td>-2.389050</td>\n",
       "      <td>3402357</td>\n",
       "    </tr>\n",
       "    <tr>\n",
       "      <th>4</th>\n",
       "      <td>693.71</td>\n",
       "      <td>1.264217</td>\n",
       "      <td>-0.724130</td>\n",
       "      <td>2082538</td>\n",
       "    </tr>\n",
       "  </tbody>\n",
       "</table>\n",
       "</div>"
      ],
      "text/plain": [
       "   adjClose  hl_percent  percent_change  adjVolume\n",
       "0    718.27    0.584738        0.249833    1306065\n",
       "1    718.92    0.564736       -0.011127    1214517\n",
       "2    710.36    0.885467       -0.636444    1982471\n",
       "3    691.72    2.472099       -2.389050    3402357\n",
       "4    693.71    1.264217       -0.724130    2082538"
      ]
     },
     "execution_count": 7,
     "metadata": {},
     "output_type": "execute_result"
    }
   ],
   "source": [
    "df = df[[\"adjClose\", \"hl_percent\", \"percent_change\",\"adjVolume\"]]\n",
    "df.head()"
   ]
  },
  {
   "cell_type": "code",
   "execution_count": 8,
   "id": "f2a61bc7",
   "metadata": {
    "execution": {
     "iopub.execute_input": "2023-03-21T19:23:27.277605Z",
     "iopub.status.busy": "2023-03-21T19:23:27.277219Z",
     "iopub.status.idle": "2023-03-21T19:23:27.283279Z",
     "shell.execute_reply": "2023-03-21T19:23:27.281657Z"
    },
    "papermill": {
     "duration": 0.014954,
     "end_time": "2023-03-21T19:23:27.285384",
     "exception": false,
     "start_time": "2023-03-21T19:23:27.270430",
     "status": "completed"
    },
    "tags": []
   },
   "outputs": [],
   "source": [
    "forecast_col = \"adjClose\"\n",
    "df.fillna(-99999, inplace = True)\n",
    "forecast_out = int(math.ceil(0.1 * len(df)))\n"
   ]
  },
  {
   "cell_type": "code",
   "execution_count": 9,
   "id": "1a548fb1",
   "metadata": {
    "execution": {
     "iopub.execute_input": "2023-03-21T19:23:27.298036Z",
     "iopub.status.busy": "2023-03-21T19:23:27.297566Z",
     "iopub.status.idle": "2023-03-21T19:23:27.303828Z",
     "shell.execute_reply": "2023-03-21T19:23:27.302817Z"
    },
    "papermill": {
     "duration": 0.015236,
     "end_time": "2023-03-21T19:23:27.305871",
     "exception": false,
     "start_time": "2023-03-21T19:23:27.290635",
     "status": "completed"
    },
    "tags": []
   },
   "outputs": [],
   "source": [
    "df['label'] = df[forecast_col].shift(-forecast_out)\n",
    "#df.dropna(inplace = True)"
   ]
  },
  {
   "cell_type": "code",
   "execution_count": 10,
   "id": "4236f2c9",
   "metadata": {
    "execution": {
     "iopub.execute_input": "2023-03-21T19:23:27.318883Z",
     "iopub.status.busy": "2023-03-21T19:23:27.318220Z",
     "iopub.status.idle": "2023-03-21T19:23:27.331423Z",
     "shell.execute_reply": "2023-03-21T19:23:27.330029Z"
    },
    "papermill": {
     "duration": 0.022719,
     "end_time": "2023-03-21T19:23:27.334136",
     "exception": false,
     "start_time": "2023-03-21T19:23:27.311417",
     "status": "completed"
    },
    "tags": []
   },
   "outputs": [
    {
     "data": {
      "text/html": [
       "<div>\n",
       "<style scoped>\n",
       "    .dataframe tbody tr th:only-of-type {\n",
       "        vertical-align: middle;\n",
       "    }\n",
       "\n",
       "    .dataframe tbody tr th {\n",
       "        vertical-align: top;\n",
       "    }\n",
       "\n",
       "    .dataframe thead th {\n",
       "        text-align: right;\n",
       "    }\n",
       "</style>\n",
       "<table border=\"1\" class=\"dataframe\">\n",
       "  <thead>\n",
       "    <tr style=\"text-align: right;\">\n",
       "      <th></th>\n",
       "      <th>adjClose</th>\n",
       "      <th>hl_percent</th>\n",
       "      <th>percent_change</th>\n",
       "      <th>adjVolume</th>\n",
       "      <th>label</th>\n",
       "    </tr>\n",
       "  </thead>\n",
       "  <tbody>\n",
       "    <tr>\n",
       "      <th>0</th>\n",
       "      <td>718.27</td>\n",
       "      <td>0.584738</td>\n",
       "      <td>0.249833</td>\n",
       "      <td>1306065</td>\n",
       "      <td>789.27</td>\n",
       "    </tr>\n",
       "    <tr>\n",
       "      <th>1</th>\n",
       "      <td>718.92</td>\n",
       "      <td>0.564736</td>\n",
       "      <td>-0.011127</td>\n",
       "      <td>1214517</td>\n",
       "      <td>796.10</td>\n",
       "    </tr>\n",
       "    <tr>\n",
       "      <th>2</th>\n",
       "      <td>710.36</td>\n",
       "      <td>0.885467</td>\n",
       "      <td>-0.636444</td>\n",
       "      <td>1982471</td>\n",
       "      <td>797.07</td>\n",
       "    </tr>\n",
       "    <tr>\n",
       "      <th>3</th>\n",
       "      <td>691.72</td>\n",
       "      <td>2.472099</td>\n",
       "      <td>-2.389050</td>\n",
       "      <td>3402357</td>\n",
       "      <td>797.85</td>\n",
       "    </tr>\n",
       "    <tr>\n",
       "      <th>4</th>\n",
       "      <td>693.71</td>\n",
       "      <td>1.264217</td>\n",
       "      <td>-0.724130</td>\n",
       "      <td>2082538</td>\n",
       "      <td>790.80</td>\n",
       "    </tr>\n",
       "  </tbody>\n",
       "</table>\n",
       "</div>"
      ],
      "text/plain": [
       "   adjClose  hl_percent  percent_change  adjVolume   label\n",
       "0    718.27    0.584738        0.249833    1306065  789.27\n",
       "1    718.92    0.564736       -0.011127    1214517  796.10\n",
       "2    710.36    0.885467       -0.636444    1982471  797.07\n",
       "3    691.72    2.472099       -2.389050    3402357  797.85\n",
       "4    693.71    1.264217       -0.724130    2082538  790.80"
      ]
     },
     "execution_count": 10,
     "metadata": {},
     "output_type": "execute_result"
    }
   ],
   "source": [
    "df.head()"
   ]
  },
  {
   "cell_type": "code",
   "execution_count": 11,
   "id": "643adf9c",
   "metadata": {
    "execution": {
     "iopub.execute_input": "2023-03-21T19:23:27.348497Z",
     "iopub.status.busy": "2023-03-21T19:23:27.347852Z",
     "iopub.status.idle": "2023-03-21T19:23:27.359584Z",
     "shell.execute_reply": "2023-03-21T19:23:27.358525Z"
    },
    "papermill": {
     "duration": 0.023603,
     "end_time": "2023-03-21T19:23:27.363344",
     "exception": false,
     "start_time": "2023-03-21T19:23:27.339741",
     "status": "completed"
    },
    "tags": []
   },
   "outputs": [
    {
     "name": "stdout",
     "output_type": "stream",
     "text": [
      "[[-1.29976984 -0.32068451  0.13167802 -0.42476337]\n",
      " [-1.29807351 -0.34165679 -0.07380981 -0.5563469 ]\n",
      " [-1.32041283 -0.00537347 -0.5662053   0.54744677]\n",
      " ...\n",
      " [ 1.57409418 -0.19097995 -0.0442695  -0.40337464]\n",
      " [ 1.57166713 -0.74063234  0.30254513 -0.72623495]\n",
      " [ 1.48184012  2.01283353 -1.27661106 -0.13515396]]\n"
     ]
    },
    {
     "name": "stderr",
     "output_type": "stream",
     "text": [
      "/opt/conda/lib/python3.7/site-packages/ipykernel_launcher.py:1: FutureWarning: In a future version of pandas all arguments of DataFrame.drop except for the argument 'labels' will be keyword-only\n",
      "  \"\"\"Entry point for launching an IPython kernel.\n"
     ]
    }
   ],
   "source": [
    "X = np.array(df.drop([\"label\"],1))\n",
    "X= preprocessing.scale(X) \n",
    "X = X[:-forecast_out]\n",
    "X_lately = X[-forecast_out:]\n",
    "\n",
    "print(X)"
   ]
  },
  {
   "cell_type": "code",
   "execution_count": 12,
   "id": "331110d8",
   "metadata": {
    "execution": {
     "iopub.execute_input": "2023-03-21T19:23:27.379636Z",
     "iopub.status.busy": "2023-03-21T19:23:27.378066Z",
     "iopub.status.idle": "2023-03-21T19:23:27.390567Z",
     "shell.execute_reply": "2023-03-21T19:23:27.389633Z"
    },
    "papermill": {
     "duration": 0.023128,
     "end_time": "2023-03-21T19:23:27.393532",
     "exception": false,
     "start_time": "2023-03-21T19:23:27.370404",
     "status": "completed"
    },
    "tags": []
   },
   "outputs": [],
   "source": [
    "#X = X[:-forecast_out + 1]\n",
    "df.dropna(inplace = True)\n",
    "y = np.array(df[\"label\"])\n",
    "y = np.array(df[\"label\"])\n",
    "#X.reshape(-1,1)\n"
   ]
  },
  {
   "cell_type": "code",
   "execution_count": 13,
   "id": "d8b79621",
   "metadata": {
    "execution": {
     "iopub.execute_input": "2023-03-21T19:23:27.408001Z",
     "iopub.status.busy": "2023-03-21T19:23:27.407578Z",
     "iopub.status.idle": "2023-03-21T19:23:27.415525Z",
     "shell.execute_reply": "2023-03-21T19:23:27.414494Z"
    },
    "papermill": {
     "duration": 0.018479,
     "end_time": "2023-03-21T19:23:27.417918",
     "exception": false,
     "start_time": "2023-03-21T19:23:27.399439",
     "status": "completed"
    },
    "tags": []
   },
   "outputs": [
    {
     "name": "stdout",
     "output_type": "stream",
     "text": [
      "1132 1132\n",
      "(1132, 4)\n",
      "(1132,)\n"
     ]
    }
   ],
   "source": [
    "print(len(X), len(y))\n",
    "print(X.shape)\n",
    "print(y.shape)"
   ]
  },
  {
   "cell_type": "code",
   "execution_count": 14,
   "id": "f21a14f6",
   "metadata": {
    "execution": {
     "iopub.execute_input": "2023-03-21T19:23:27.431639Z",
     "iopub.status.busy": "2023-03-21T19:23:27.431272Z",
     "iopub.status.idle": "2023-03-21T19:23:27.457933Z",
     "shell.execute_reply": "2023-03-21T19:23:27.455927Z"
    },
    "papermill": {
     "duration": 0.036147,
     "end_time": "2023-03-21T19:23:27.460717",
     "exception": false,
     "start_time": "2023-03-21T19:23:27.424570",
     "status": "completed"
    },
    "tags": []
   },
   "outputs": [
    {
     "name": "stdout",
     "output_type": "stream",
     "text": [
      "[1680.92663637 1681.05022513 1700.14598548 1706.4052525  1685.62208892\n",
      " 1712.95406087 1707.50018251 1732.61716428 1734.98815939 1677.46652591\n",
      " 1726.07917162 1652.26650453 1677.25798272 1707.80951829 1766.15429413\n",
      " 1781.50310479 1793.65115886 1759.8247999  1789.90910318 1847.12880658\n",
      " 1881.18994757 1809.52160466 1809.1951994  1788.97708661 1777.70870031\n",
      " 1892.50810558 1854.5030209  1836.77685373 1849.24131348 1787.96982892\n",
      " 1819.19970164 1786.39722648 1803.38263329 1838.67140805 1799.33799519\n",
      " 1753.16497992 1743.70881625 1744.5184411  1788.50495784 1785.96285089\n",
      " 1763.40037246 1775.74943056 1786.94915447 1819.78350518 1777.93216025\n",
      " 1787.4734374  1873.33749754 1864.94615202 1903.62286078 1892.70766514\n",
      " 1912.62960161 1933.48838882 2043.44437106 1958.47983965 1953.7968563\n",
      " 1947.94053976 1998.11953818 2126.72209447 2050.82582606 1975.92618862\n",
      " 1879.99145585 1853.0535542  1881.0692375  1884.06473142 1857.92421478\n",
      " 1843.28202419 1830.66950965 1775.95893186 1787.93985538 1713.07371212\n",
      " 1726.0472751  1703.56742071 1703.85565022 1693.25001489 1727.47410257\n",
      " 1710.77793313 1758.93396249 1764.17971477 1740.88671932 1744.14238594\n",
      " 1735.76926076 1713.90146664 1750.85211562 1787.53747012 1935.65810327\n",
      " 1872.35315455 1878.21955582 1871.81135806 1866.20201803 1871.97403877\n",
      " 1909.73398357 1964.11854329 1932.70237287 1947.53893927 1945.80032456\n",
      " 1892.867414   1835.76706146 1945.90573566 2057.75155028 2005.48671574\n",
      " 1989.52619325 2194.78154205 2152.77899565 2125.34383033 2196.38317291\n",
      " 2140.88891048 2103.13651774 2112.24801298 2139.06659594 2158.30360873\n",
      " 2122.6450165  2106.08453012 2125.31090419 2128.5237244  2097.42425046\n",
      " 2141.67528979 2111.68088932 2162.13349811 2136.63434969 2217.69351169\n",
      " 2216.41052661 2217.08826537 2193.44340039 2193.25691354 2176.00474902\n",
      " 2199.37659356] 0.8302569505473978 126\n"
     ]
    }
   ],
   "source": [
    "X_train, X_test, y_train, y_test = sklearn.model_selection.train_test_split(X, y, test_size = 0.2)\n",
    "clf = LinearRegression(n_jobs = -1)\n",
    "clf.fit(X_train, y_train)\n",
    "accuracy = clf.score(X_test, y_test)\n",
    "forecast_set = clf.predict(X_lately)\n",
    "print(forecast_set , accuracy, forecast_out)"
   ]
  },
  {
   "cell_type": "code",
   "execution_count": 15,
   "id": "782155c7",
   "metadata": {
    "execution": {
     "iopub.execute_input": "2023-03-21T19:23:27.474825Z",
     "iopub.status.busy": "2023-03-21T19:23:27.473655Z",
     "iopub.status.idle": "2023-03-21T19:23:27.480089Z",
     "shell.execute_reply": "2023-03-21T19:23:27.478564Z"
    },
    "papermill": {
     "duration": 0.016335,
     "end_time": "2023-03-21T19:23:27.482984",
     "exception": false,
     "start_time": "2023-03-21T19:23:27.466649",
     "status": "completed"
    },
    "tags": []
   },
   "outputs": [
    {
     "name": "stdout",
     "output_type": "stream",
     "text": [
      "0.8302569505473978\n"
     ]
    }
   ],
   "source": [
    "print(accuracy)"
   ]
  },
  {
   "cell_type": "code",
   "execution_count": 16,
   "id": "dac87beb",
   "metadata": {
    "execution": {
     "iopub.execute_input": "2023-03-21T19:23:27.497906Z",
     "iopub.status.busy": "2023-03-21T19:23:27.496926Z",
     "iopub.status.idle": "2023-03-21T19:23:27.503994Z",
     "shell.execute_reply": "2023-03-21T19:23:27.502217Z"
    },
    "papermill": {
     "duration": 0.016984,
     "end_time": "2023-03-21T19:23:27.506765",
     "exception": false,
     "start_time": "2023-03-21T19:23:27.489781",
     "status": "completed"
    },
    "tags": []
   },
   "outputs": [],
   "source": [
    "df[\"forecast\"] = np.nan\n",
    "last_date = df.iloc[-1].name\n",
    "one_day = 86400\n",
    "last_unix = last_date + one_day\n",
    "\n",
    "next_unix = last_unix + one_day"
   ]
  },
  {
   "cell_type": "code",
   "execution_count": 17,
   "id": "1c8f0a60",
   "metadata": {
    "execution": {
     "iopub.execute_input": "2023-03-21T19:23:27.520750Z",
     "iopub.status.busy": "2023-03-21T19:23:27.520426Z",
     "iopub.status.idle": "2023-03-21T19:23:27.813562Z",
     "shell.execute_reply": "2023-03-21T19:23:27.812596Z"
    },
    "papermill": {
     "duration": 0.303053,
     "end_time": "2023-03-21T19:23:27.815997",
     "exception": false,
     "start_time": "2023-03-21T19:23:27.512944",
     "status": "completed"
    },
    "tags": []
   },
   "outputs": [],
   "source": [
    "for i in forecast_set:\n",
    "    next_date = datetime.datetime.fromtimestamp(next_unix)\n",
    "    next_unix+= one_day\n",
    "    df.loc[next_date] = [np.nan for _ in range(len(df.columns)-1)] + [i]"
   ]
  },
  {
   "cell_type": "code",
   "execution_count": 18,
   "id": "f69b3fbf",
   "metadata": {
    "execution": {
     "iopub.execute_input": "2023-03-21T19:23:27.829089Z",
     "iopub.status.busy": "2023-03-21T19:23:27.828730Z",
     "iopub.status.idle": "2023-03-21T19:23:28.067931Z",
     "shell.execute_reply": "2023-03-21T19:23:28.066308Z"
    },
    "papermill": {
     "duration": 0.249798,
     "end_time": "2023-03-21T19:23:28.071519",
     "exception": false,
     "start_time": "2023-03-21T19:23:27.821721",
     "status": "completed"
    },
    "tags": []
   },
   "outputs": [
    {
     "data": {
      "image/png": "[encoded data removed]",
      "text/plain": [
       "<Figure size 640x480 with 1 Axes>"
      ]
     },
     "metadata": {},
     "output_type": "display_data"
    }
   ],
   "source": [
    "df[\"adjClose\"].plot()\n",
    "df[\"forecast\"].plot()\n",
    "plt.legend(loc =4)\n",
    "plt.xlabel(\"Date\")\n",
    "plt.ylabel(\"Price\")\n",
    "plt.show()"
   ]
  },
  {
   "cell_type": "code",
   "execution_count": 19,
   "id": "71ee5ff9",
   "metadata": {
    "execution": {
     "iopub.execute_input": "2023-03-21T19:23:28.087620Z",
     "iopub.status.busy": "2023-03-21T19:23:28.087280Z",
     "iopub.status.idle": "2023-03-21T19:23:28.095065Z",
     "shell.execute_reply": "2023-03-21T19:23:28.093567Z"
    },
    "papermill": {
     "duration": 0.018932,
     "end_time": "2023-03-21T19:23:28.097700",
     "exception": false,
     "start_time": "2023-03-21T19:23:28.078768",
     "status": "completed"
    },
    "tags": []
   },
   "outputs": [
    {
     "data": {
      "text/plain": [
       "'clf2 = svm.SVR()\\nclf2.fit(X_train, y_train)\\naccuracy_svm = clf.score(X_test, y_test)\\nprint(accuracy_svm)'"
      ]
     },
     "execution_count": 19,
     "metadata": {},
     "output_type": "execute_result"
    }
   ],
   "source": [
    "'''clf2 = svm.SVR()\n",
    "clf2.fit(X_train, y_train)\n",
    "accuracy_svm = clf.score(X_test, y_test)\n",
    "print(accuracy_svm)'''"
   ]
  }
 ],
 "metadata": {
  "kernelspec": {
   "display_name": "Python 3",
   "language": "python",
   "name": "python3"
  },
  "language_info": {
   "codemirror_mode": {
    "name": "ipython",
    "version": 3
   },
   "file_extension": ".py",
   "mimetype": "text/x-python",
   "name": "python",
   "nbconvert_exporter": "python",
   "pygments_lexer": "ipython3",
   "version": "3.7.12"
  },
  "papermill": {
   "default_parameters": {},
   "duration": 11.765662,
   "end_time": "2023-03-21T19:23:28.826889",
   "environment_variables": {},
   "exception": null,
   "input_path": "__notebook__.ipynb",
   "output_path": "__notebook__.ipynb",
   "parameters": {},
   "start_time": "2023-03-21T19:23:17.061227",
   "version": "2.4.0"
  }
 },
 "nbformat": 4,
 "nbformat_minor": 5
}
