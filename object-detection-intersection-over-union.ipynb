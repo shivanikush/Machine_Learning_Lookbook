{
 "cells": [
  {
   "cell_type": "markdown",
   "id": "5b170518",
   "metadata": {
    "papermill": {
     "duration": 0.003232,
     "end_time": "2023-03-23T17:42:05.338516",
     "exception": false,
     "start_time": "2023-03-23T17:42:05.335284",
     "status": "completed"
    },
    "tags": []
   },
   "source": [
    "This notebook holds information gathered from Aladdin Persson's yt tutorial"
   ]
  },
  {
   "cell_type": "code",
   "execution_count": 1,
   "id": "298b547b",
   "metadata": {
    "_cell_guid": "b1076dfc-b9ad-4769-8c92-a6c4dae69d19",
    "_uuid": "8f2839f25d086af736a60e9eeb907d3b93b6e0e5",
    "execution": {
     "iopub.execute_input": "2023-03-23T17:42:05.346130Z",
     "iopub.status.busy": "2023-03-23T17:42:05.345028Z",
     "iopub.status.idle": "2023-03-23T17:42:08.020643Z",
     "shell.execute_reply": "2023-03-23T17:42:08.019426Z"
    },
    "papermill": {
     "duration": 2.682709,
     "end_time": "2023-03-23T17:42:08.023551",
     "exception": false,
     "start_time": "2023-03-23T17:42:05.340842",
     "status": "completed"
    },
    "tags": []
   },
   "outputs": [],
   "source": [
    "# This Python 3 environment comes with many helpful analytics libraries installed\n",
    "# It is defined by the kaggle/python Docker image: https://github.com/kaggle/docker-python\n",
    "# For example, here's several helpful packages to load\n",
    "\n",
    "import numpy as np # linear algebra\n",
    "import pandas as pd # data processing, CSV file I/O (e.g. pd.read_csv)\n",
    "import torch\n",
    "\n",
    "\n",
    "# Input data files are available in the read-only \"../input/\" directory\n",
    "# For example, running this (by clicking run or pressing Shift+Enter) will list all files under the input directory\n",
    "\n",
    "import os\n",
    "for dirname, _, filenames in os.walk('/kaggle/input'):\n",
    "    for filename in filenames:\n",
    "        print(os.path.join(dirname, filename))\n",
    "\n",
    "# You can write up to 20GB to the current directory (/kaggle/working/) that gets preserved as output when you create a version using \"Save & Run All\" \n",
    "# You can also write temporary files to /kaggle/temp/, but they won't be saved outside of the current session"
   ]
  },
  {
   "cell_type": "code",
   "execution_count": 2,
   "id": "c865ea4c",
   "metadata": {
    "execution": {
     "iopub.execute_input": "2023-03-23T17:42:08.029755Z",
     "iopub.status.busy": "2023-03-23T17:42:08.029205Z",
     "iopub.status.idle": "2023-03-23T17:42:08.042783Z",
     "shell.execute_reply": "2023-03-23T17:42:08.041611Z"
    },
    "papermill": {
     "duration": 0.019432,
     "end_time": "2023-03-23T17:42:08.045277",
     "exception": false,
     "start_time": "2023-03-23T17:42:08.025845",
     "status": "completed"
    },
    "tags": []
   },
   "outputs": [],
   "source": [
    "def intersection_over_union(bb_pred, bb_labels,box_format = \"midpoint\"):\n",
    "    \"\"\" Calculates intersection over Union\n",
    "    Parameters: bb_pred (tensor) : Prediction of Bounding boxes (BATCH_SIZE,4)\n",
    "    bb_labels (tensor): Correct labels of BB (BATCH_SIZE, 4)\n",
    "    box_format (str): midpoint/corners, if boxes (x,y,w,h) or (x1,y1,x2,y2)\n",
    "    \n",
    "    \n",
    "    Results: \n",
    "    tensor : Intersection over union for all examples\"\"\"\n",
    "    #bb_pred shape = (N,4) where N is the bounding boxes\n",
    "    #bb_labels = (N,4)\n",
    "    if (box_format == \"midpoint\"):\n",
    "        box1_x1 = bb_pred[...,0:1] -  bb_pred[...,2:3]/2\n",
    "        box1_y1 = bb_pred[...,1:2] - bb_pred[...,3:4]/2\n",
    "        box1_x2 = bb_pred[...,0:1] + bb_pred[...,2:3]/2\n",
    "        box1_y2 = bb_pred[...,1:2] + bb_pred[...,3:4]/2\n",
    "        box2_x1 = bb_labels[...,0:1] -  bb_labels[...,2:3]/2\n",
    "        box2_y1 = bb_labels[...,1:2] - bb_labels[...,3:4]/2\n",
    "        box2_x2 = bb_labels[...,0:1] + bb_labels[...,2:3]/2\n",
    "        box2_y2 = bb_labels[...,1:2] + bb_labels[...,3:4]/2\n",
    "    elif (box_format == \"corners\"):\n",
    "        box1_x1 = bb_pred[...,0:1]\n",
    "        box1_y1 = bb_pred[...,1:2]\n",
    "        box1_x2 = bb_pred[...,2:3]\n",
    "        box1_y2 = bb_pred[...,3:4]\n",
    "        box2_x1 = bb_labels[...,0:1]\n",
    "        box2_y1 = bb_labels[...,1:2]\n",
    "        box2_x2 = bb_labels[...,2:2]\n",
    "        box2_y2 = bb_labels[...,3:4]\n",
    "    \n",
    "    x1 = torch.max(box1_x1,box2_x1)\n",
    "    y1 = torch.max(box1_y1, box2_y1)\n",
    "    x2 = torch.min(box2_x2, box2_x2)\n",
    "    y2 = torch.min(box2_y2, box2_y2)\n",
    "    \n",
    "    \n",
    "    #clamp[0] is for the case when they do not intersect\n",
    "    intersection = (x2 - x1).clamp[0] * (y2 - y1).clamp[0]\n",
    "    \n",
    "    box1_area = abs((box1_x2 - box1_x1) * (box1_y1 - box1_y2))\n",
    "    box2_area = abs((box2_x2 - box2_x1) * (box2_y1 - box2_y2))\n",
    "    \n",
    "    return intersection/ (box1_area + box2_area - intersection + 1e-6)\n",
    "    "
   ]
  },
  {
   "cell_type": "code",
   "execution_count": null,
   "id": "fe183d3e",
   "metadata": {
    "papermill": {
     "duration": 0.001982,
     "end_time": "2023-03-23T17:42:08.049710",
     "exception": false,
     "start_time": "2023-03-23T17:42:08.047728",
     "status": "completed"
    },
    "tags": []
   },
   "outputs": [],
   "source": []
  },
  {
   "cell_type": "code",
   "execution_count": null,
   "id": "2fcf5251",
   "metadata": {
    "papermill": {
     "duration": 0.001798,
     "end_time": "2023-03-23T17:42:08.053585",
     "exception": false,
     "start_time": "2023-03-23T17:42:08.051787",
     "status": "completed"
    },
    "tags": []
   },
   "outputs": [],
   "source": []
  }
 ],
 "metadata": {
  "kernelspec": {
   "display_name": "Python 3",
   "language": "python",
   "name": "python3"
  },
  "language_info": {
   "codemirror_mode": {
    "name": "ipython",
    "version": 3
   },
   "file_extension": ".py",
   "mimetype": "text/x-python",
   "name": "python",
   "nbconvert_exporter": "python",
   "pygments_lexer": "ipython3",
   "version": "3.7.12"
  },
  "papermill": {
   "default_parameters": {},
   "duration": 14.259761,
   "end_time": "2023-03-23T17:42:08.979711",
   "environment_variables": {},
   "exception": null,
   "input_path": "__notebook__.ipynb",
   "output_path": "__notebook__.ipynb",
   "parameters": {},
   "start_time": "2023-03-23T17:41:54.719950",
   "version": "2.4.0"
  }
 },
 "nbformat": 4,
 "nbformat_minor": 5
}
